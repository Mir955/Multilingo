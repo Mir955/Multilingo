{
 "cells": [
  {
   "cell_type": "markdown",
   "id": "89d37dc0",
   "metadata": {},
   "source": [
    "*Carol is the CEO of Multilingo, a language learning platform. She takes digital lectures on the app. \n",
    "She wants to integrate a feature on the app in which students can practice translation skills by \n",
    "studying 10 translations a day. She has 100 sets of parallel sentences for this task which is scrapped \n",
    "from a website.*"
   ]
  },
  {
   "cell_type": "markdown",
   "id": "86e65909",
   "metadata": {},
   "source": [
    "# Task 1\n",
    "\n",
    "Being the data scientist of Multilingo, analyze the scraped dataset using your Python skills. The goal \n",
    "is to make the data suitable for reading by the students. Use your imagination to apply different \n",
    "processing steps to make the data clean (syntactically and semantically)."
   ]
  },
  {
   "cell_type": "markdown",
   "id": "8e894481",
   "metadata": {},
   "source": [
    "## Part-1 Data Loading\n",
    "\n",
    "`translation.xlsx `have the following fields:\n",
    "\n",
    "\n",
    "*   English: source in English language\n",
    "*   German: target in German language\n",
    "\n",
    "\n"
   ]
  },
  {
   "cell_type": "code",
   "execution_count": 1,
   "id": "bbbde4e8",
   "metadata": {},
   "outputs": [],
   "source": [
    "# import necessary libraries\n",
    "import pandas as pd\n",
    "import re\n",
    "import matplotlib.pyplot as plt "
   ]
  },
  {
   "cell_type": "code",
   "execution_count": 64,
   "id": "8512c250",
   "metadata": {},
   "outputs": [],
   "source": [
    "# read raw data \n",
    "sentence_pair_df = pd.read_excel(\"datascientist-task-data-files/translation-data.xlsx\") "
   ]
  },
  {
   "cell_type": "code",
   "execution_count": 23,
   "id": "186a1afd",
   "metadata": {},
   "outputs": [
    {
     "data": {
      "text/html": [
       "<div>\n",
       "<style scoped>\n",
       "    .dataframe tbody tr th:only-of-type {\n",
       "        vertical-align: middle;\n",
       "    }\n",
       "\n",
       "    .dataframe tbody tr th {\n",
       "        vertical-align: top;\n",
       "    }\n",
       "\n",
       "    .dataframe thead th {\n",
       "        text-align: right;\n",
       "    }\n",
       "</style>\n",
       "<table border=\"1\" class=\"dataframe\">\n",
       "  <thead>\n",
       "    <tr style=\"text-align: right;\">\n",
       "      <th></th>\n",
       "      <th>English</th>\n",
       "      <th>German</th>\n",
       "    </tr>\n",
       "  </thead>\n",
       "  <tbody>\n",
       "    <tr>\n",
       "      <th>0</th>\n",
       "      <td>\"The mask with a grinning man's face appears c...</td>\n",
       "      <td>Die Maske mit grinsendem Männergesicht wirkt d...</td>\n",
       "    </tr>\n",
       "    <tr>\n",
       "      <th>1</th>\n",
       "      <td>The WSWS posted this comment on the slanderous...</td>\n",
       "      <td>Die WSWS hatte den folgenden Kommentar zu dies...</td>\n",
       "    </tr>\n",
       "    <tr>\n",
       "      <th>2</th>\n",
       "      <td>The Haitian manner of spelling 'vodou' was int...</td>\n",
       "      <td>\"Für diese Ausstellung wurde bewusst die haiti...</td>\n",
       "    </tr>\n",
       "    <tr>\n",
       "      <th>3</th>\n",
       "      <td>The database also records new manufacturers in...</td>\n",
       "      <td>Die Datenbank nimmt bei jeder neuen Herausgabe...</td>\n",
       "    </tr>\n",
       "    <tr>\n",
       "      <th>4</th>\n",
       "      <td>Medially this situation is hushed up with just...</td>\n",
       "      <td>Medial wird diese Situation, wenige Ausnahmen ...</td>\n",
       "    </tr>\n",
       "  </tbody>\n",
       "</table>\n",
       "</div>"
      ],
      "text/plain": [
       "                                             English  \\\n",
       "0  \"The mask with a grinning man's face appears c...   \n",
       "1  The WSWS posted this comment on the slanderous...   \n",
       "2  The Haitian manner of spelling 'vodou' was int...   \n",
       "3  The database also records new manufacturers in...   \n",
       "4  Medially this situation is hushed up with just...   \n",
       "\n",
       "                                              German  \n",
       "0  Die Maske mit grinsendem Männergesicht wirkt d...  \n",
       "1  Die WSWS hatte den folgenden Kommentar zu dies...  \n",
       "2  \"Für diese Ausstellung wurde bewusst die haiti...  \n",
       "3  Die Datenbank nimmt bei jeder neuen Herausgabe...  \n",
       "4  Medial wird diese Situation, wenige Ausnahmen ...  "
      ]
     },
     "execution_count": 23,
     "metadata": {},
     "output_type": "execute_result"
    }
   ],
   "source": [
    "sentence_pair_df.head()"
   ]
  },
  {
   "cell_type": "markdown",
   "id": "39806446",
   "metadata": {},
   "source": [
    "# Part-2 Processing data to clean and make suitable for reading by the students."
   ]
  },
  {
   "cell_type": "markdown",
   "id": "5dc289e6",
   "metadata": {},
   "source": [
    "*  Let us start with checking the shape of each dataframes. This will help us to ensure if the splitting is done correctly or not."
   ]
  },
  {
   "cell_type": "code",
   "execution_count": 24,
   "id": "bb336ece",
   "metadata": {},
   "outputs": [
    {
     "data": {
      "text/plain": [
       "(100, 2)"
      ]
     },
     "execution_count": 24,
     "metadata": {},
     "output_type": "execute_result"
    }
   ],
   "source": [
    "# shape of full dataset \n",
    "sentence_pair_df.shape"
   ]
  },
  {
   "cell_type": "code",
   "execution_count": 25,
   "id": "f3db6cdf",
   "metadata": {},
   "outputs": [
    {
     "data": {
      "text/plain": [
       "(100, 2)"
      ]
     },
     "execution_count": 25,
     "metadata": {},
     "output_type": "execute_result"
    }
   ],
   "source": [
    "# shape of full dataset \n",
    "sentence_pair_df.shape"
   ]
  },
  {
   "cell_type": "markdown",
   "id": "e914b5f7",
   "metadata": {},
   "source": [
    "*   Detecting if the sentence pair in English and German language starting with single or double quotes and ending with single or double quotes."
   ]
  },
  {
   "cell_type": "code",
   "execution_count": 58,
   "id": "0fab5361",
   "metadata": {},
   "outputs": [],
   "source": [
    "# check if sentence starts or ends with quotes\n",
    "quotes_mismatch_index = []\n",
    "for index, row in sentence_pair_df.iterrows():\n",
    "    if row['English'].startswith((\"'\", \"\\\"\")) and not row['German'].startswith((\"'\", \"\\\"\")):\n",
    "        quotes_mismatch_index.append(index)\n",
    "    elif not row['English'].startswith((\"'\", \"\\\"\")) and row['German'].startswith((\"'\", \"\\\"\")):\n",
    "        quotes_mismatch_index.append(index)\n",
    "    elif row['English'].endswith((\"'\", \"\\\"\")) and row['German'].endswith((\"'\", \"\\\"\")):\n",
    "        quotes_mismatch_index.append(index)\n",
    "    elif not row['English'].startswith((\"'\", \"\\\"\")) and row['German'].endswith((\"'\", \"\\\"\")):\n",
    "        quotes_mismatch_index.append(index)\n",
    "    "
   ]
  },
  {
   "cell_type": "code",
   "execution_count": 27,
   "id": "37026450",
   "metadata": {},
   "outputs": [
    {
     "data": {
      "text/html": [
       "<div>\n",
       "<style scoped>\n",
       "    .dataframe tbody tr th:only-of-type {\n",
       "        vertical-align: middle;\n",
       "    }\n",
       "\n",
       "    .dataframe tbody tr th {\n",
       "        vertical-align: top;\n",
       "    }\n",
       "\n",
       "    .dataframe thead th {\n",
       "        text-align: right;\n",
       "    }\n",
       "</style>\n",
       "<table border=\"1\" class=\"dataframe\">\n",
       "  <thead>\n",
       "    <tr style=\"text-align: right;\">\n",
       "      <th></th>\n",
       "      <th>English</th>\n",
       "      <th>German</th>\n",
       "    </tr>\n",
       "  </thead>\n",
       "  <tbody>\n",
       "    <tr>\n",
       "      <th>0</th>\n",
       "      <td>\"The mask with a grinning man's face appears c...</td>\n",
       "      <td>Die Maske mit grinsendem Männergesicht wirkt d...</td>\n",
       "    </tr>\n",
       "    <tr>\n",
       "      <th>2</th>\n",
       "      <td>The Haitian manner of spelling 'vodou' was int...</td>\n",
       "      <td>\"Für diese Ausstellung wurde bewusst die haiti...</td>\n",
       "    </tr>\n",
       "    <tr>\n",
       "      <th>6</th>\n",
       "      <td>Activation mode for events defined in arrEvent...</td>\n",
       "      <td>\"Aktivierungsmodus für Ereignisse, definiert i...</td>\n",
       "    </tr>\n",
       "  </tbody>\n",
       "</table>\n",
       "</div>"
      ],
      "text/plain": [
       "                                             English  \\\n",
       "0  \"The mask with a grinning man's face appears c...   \n",
       "2  The Haitian manner of spelling 'vodou' was int...   \n",
       "6  Activation mode for events defined in arrEvent...   \n",
       "\n",
       "                                              German  \n",
       "0  Die Maske mit grinsendem Männergesicht wirkt d...  \n",
       "2  \"Für diese Ausstellung wurde bewusst die haiti...  \n",
       "6  \"Aktivierungsmodus für Ereignisse, definiert i...  "
      ]
     },
     "execution_count": 27,
     "metadata": {},
     "output_type": "execute_result"
    }
   ],
   "source": [
    "# print sentences starting and ending \n",
    "# with single or double quotes\n",
    "sentence_pair_df.iloc[quotes_mismatch_index]"
   ]
  },
  {
   "cell_type": "markdown",
   "id": "38f388ce",
   "metadata": {},
   "source": [
    "\n",
    "\n",
    "*   We can observe that in dataset there are sentences starting and ending with single or double quotes. \n",
    "*   However, there is inconsistence in when sentences considered as a pair. \n",
    "*   E.g., signle or double quotes are present in source sentence but missing in target langauge. \n",
    "*   Therefore, it is important to remove single or double quotes in order to eliminate inconsistence of sentences starting and ending with quotes.\n",
    "\n",
    "\n",
    "\n",
    "\n"
   ]
  },
  {
   "cell_type": "code",
   "execution_count": 28,
   "id": "79e1df72",
   "metadata": {},
   "outputs": [],
   "source": [
    "# remove quotes from sentences \n",
    "for index in quotes_mismatch_index:\n",
    "    if sentence_pair_df['English'].iloc[index].startswith((\"'\", \"\\\"\")):\n",
    "        sentence_pair_df['English'].iloc[index] = sentence_pair_df['English'].iloc[index][1:-1]\n",
    "    elif sentence_pair_df['German'].iloc[index].startswith((\"'\", \"\\\"\")):\n",
    "        sentence_pair_df['German'].iloc[index] = sentence_pair_df['German'].iloc[index][1:-1]"
   ]
  },
  {
   "cell_type": "code",
   "execution_count": 29,
   "id": "9fa2340f",
   "metadata": {},
   "outputs": [
    {
     "data": {
      "text/html": [
       "<div>\n",
       "<style scoped>\n",
       "    .dataframe tbody tr th:only-of-type {\n",
       "        vertical-align: middle;\n",
       "    }\n",
       "\n",
       "    .dataframe tbody tr th {\n",
       "        vertical-align: top;\n",
       "    }\n",
       "\n",
       "    .dataframe thead th {\n",
       "        text-align: right;\n",
       "    }\n",
       "</style>\n",
       "<table border=\"1\" class=\"dataframe\">\n",
       "  <thead>\n",
       "    <tr style=\"text-align: right;\">\n",
       "      <th></th>\n",
       "      <th>English</th>\n",
       "      <th>German</th>\n",
       "    </tr>\n",
       "  </thead>\n",
       "  <tbody>\n",
       "    <tr>\n",
       "      <th>0</th>\n",
       "      <td>The mask with a grinning man's face appears ca...</td>\n",
       "      <td>Die Maske mit grinsendem Männergesicht wirkt d...</td>\n",
       "    </tr>\n",
       "    <tr>\n",
       "      <th>2</th>\n",
       "      <td>The Haitian manner of spelling 'vodou' was int...</td>\n",
       "      <td>Für diese Ausstellung wurde bewusst die haitia...</td>\n",
       "    </tr>\n",
       "    <tr>\n",
       "      <th>6</th>\n",
       "      <td>Activation mode for events defined in arrEvent...</td>\n",
       "      <td>Aktivierungsmodus für Ereignisse, definiert in...</td>\n",
       "    </tr>\n",
       "  </tbody>\n",
       "</table>\n",
       "</div>"
      ],
      "text/plain": [
       "                                             English  \\\n",
       "0  The mask with a grinning man's face appears ca...   \n",
       "2  The Haitian manner of spelling 'vodou' was int...   \n",
       "6  Activation mode for events defined in arrEvent...   \n",
       "\n",
       "                                              German  \n",
       "0  Die Maske mit grinsendem Männergesicht wirkt d...  \n",
       "2  Für diese Ausstellung wurde bewusst die haitia...  \n",
       "6  Aktivierungsmodus für Ereignisse, definiert in...  "
      ]
     },
     "execution_count": 29,
     "metadata": {},
     "output_type": "execute_result"
    }
   ],
   "source": [
    "# print sentences without quotes\n",
    "sentence_pair_df.iloc[quotes_mismatch_index]"
   ]
  },
  {
   "cell_type": "markdown",
   "id": "20068d59",
   "metadata": {},
   "source": [
    "*   There are sentences that contain numbers in either source sentence or target sentence.\n",
    "*    Hence it is important to detect if they are present in both source and target language simultaneously and their isn't any inconsistence similar to `\"`. \n"
   ]
  },
  {
   "cell_type": "code",
   "execution_count": 30,
   "id": "ba793db6",
   "metadata": {},
   "outputs": [],
   "source": [
    "# find if integers are present in sentence\n",
    "def extract_integers(sentence):\n",
    "    nums = re.findall(r'\\d+', sentence)\n",
    "    return nums"
   ]
  },
  {
   "cell_type": "code",
   "execution_count": 31,
   "id": "e40a6766",
   "metadata": {},
   "outputs": [],
   "source": [
    "# extract sentences containing integers\n",
    "numbers_mismatch_index = []\n",
    "for index, row in sentence_pair_df.iterrows():\n",
    "    if extract_integers(row['English']) != extract_integers(row['German']):\n",
    "        numbers_mismatch_index.append(index)"
   ]
  },
  {
   "cell_type": "code",
   "execution_count": 38,
   "id": "672baf13",
   "metadata": {},
   "outputs": [
    {
     "data": {
      "text/html": [
       "<div>\n",
       "<style scoped>\n",
       "    .dataframe tbody tr th:only-of-type {\n",
       "        vertical-align: middle;\n",
       "    }\n",
       "\n",
       "    .dataframe tbody tr th {\n",
       "        vertical-align: top;\n",
       "    }\n",
       "\n",
       "    .dataframe thead th {\n",
       "        text-align: right;\n",
       "    }\n",
       "</style>\n",
       "<table border=\"1\" class=\"dataframe\">\n",
       "  <thead>\n",
       "    <tr style=\"text-align: right;\">\n",
       "      <th></th>\n",
       "      <th>English</th>\n",
       "      <th>German</th>\n",
       "    </tr>\n",
       "  </thead>\n",
       "  <tbody>\n",
       "    <tr>\n",
       "      <th>1</th>\n",
       "      <td>The WSWS posted this comment on the slanderous...</td>\n",
       "      <td>Die WSWS hatte den folgenden Kommentar zu dies...</td>\n",
       "    </tr>\n",
       "    <tr>\n",
       "      <th>16</th>\n",
       "      <td>Leave grass clippings on the lawn.</td>\n",
       "      <td>3. Lassen Sie abgeschnittenes Gras auf dem Ras...</td>\n",
       "    </tr>\n",
       "    <tr>\n",
       "      <th>32</th>\n",
       "      <td>Lazio became the predominant province and also...</td>\n",
       "      <td>Das Latium wurde zur Provinz Nummer 1 und umfa...</td>\n",
       "    </tr>\n",
       "    <tr>\n",
       "      <th>46</th>\n",
       "      <td>Huflattich 2016. Designed by Anni Freiburgb? r...</td>\n",
       "      <td>Publiziert 3. August 2016 | Von Anni Freiburgb...</td>\n",
       "    </tr>\n",
       "    <tr>\n",
       "      <th>51</th>\n",
       "      <td>A regional ticket allows journeys in Helsinki,...</td>\n",
       "      <td>Zone 2 berechtigt zu grenzüberschreitenden Rei...</td>\n",
       "    </tr>\n",
       "    <tr>\n",
       "      <th>61</th>\n",
       "      <td>The Four Suyos must become an organized politi...</td>\n",
       "      <td>Die 4 Suyos muss sich in eine organisierte pol...</td>\n",
       "    </tr>\n",
       "    <tr>\n",
       "      <th>70</th>\n",
       "      <td>The text is from Et suk igennem verden går (\\\\...</td>\n",
       "      <td>Der Text stammt aus Nr. 139 des Dänischen Gesa...</td>\n",
       "    </tr>\n",
       "    <tr>\n",
       "      <th>75</th>\n",
       "      <td>if such recognition is manifestly contrary to ...</td>\n",
       "      <td>Die Vorschriften über die Zuständigkeit gehöre...</td>\n",
       "    </tr>\n",
       "    <tr>\n",
       "      <th>81</th>\n",
       "      <td>Since 1983 he has trained several generations ...</td>\n",
       "      <td>Seit 1983 hat er mehrere Generationen von Muay...</td>\n",
       "    </tr>\n",
       "  </tbody>\n",
       "</table>\n",
       "</div>"
      ],
      "text/plain": [
       "                                              English  \\\n",
       "1   The WSWS posted this comment on the slanderous...   \n",
       "16                 Leave grass clippings on the lawn.   \n",
       "32  Lazio became the predominant province and also...   \n",
       "46  Huflattich 2016. Designed by Anni Freiburgb? r...   \n",
       "51  A regional ticket allows journeys in Helsinki,...   \n",
       "61  The Four Suyos must become an organized politi...   \n",
       "70  The text is from Et suk igennem verden går (\\\\...   \n",
       "75  if such recognition is manifestly contrary to ...   \n",
       "81  Since 1983 he has trained several generations ...   \n",
       "\n",
       "                                               German  \n",
       "1   Die WSWS hatte den folgenden Kommentar zu dies...  \n",
       "16  3. Lassen Sie abgeschnittenes Gras auf dem Ras...  \n",
       "32  Das Latium wurde zur Provinz Nummer 1 und umfa...  \n",
       "46  Publiziert 3. August 2016 | Von Anni Freiburgb...  \n",
       "51  Zone 2 berechtigt zu grenzüberschreitenden Rei...  \n",
       "61  Die 4 Suyos muss sich in eine organisierte pol...  \n",
       "70  Der Text stammt aus Nr. 139 des Dänischen Gesa...  \n",
       "75  Die Vorschriften über die Zuständigkeit gehöre...  \n",
       "81  Seit 1983 hat er mehrere Generationen von Muay...  "
      ]
     },
     "execution_count": 38,
     "metadata": {},
     "output_type": "execute_result"
    }
   ],
   "source": [
    "# print sentences containing integers \n",
    "sentence_pair_df.iloc[numbers_mismatch_index]"
   ]
  },
  {
   "cell_type": "markdown",
   "id": "1306ef1f",
   "metadata": {},
   "source": [
    "\n",
    "\n",
    "*   These sentences pair have mismatch in the presence of integer on\n",
    "the both side i.e. source and target.\n",
    "*   We can take decision on \n",
    "whether to remove these rows or clean them accordingly. We can\n",
    "use different approach to find out which one to keep and which \n",
    "one to delete."
   ]
  },
  {
   "cell_type": "code",
   "execution_count": 39,
   "id": "96a3fbac",
   "metadata": {},
   "outputs": [],
   "source": [
    "# remove sentences if there is presence of integers \n",
    "# in source but not in target and vice a versa \n",
    "# and reset index  \n",
    "sentence_pair_df.drop(index=numbers_mismatch_index, inplace=True)\n",
    "sentence_pair_df.reset_index(inplace=True, drop=True)"
   ]
  },
  {
   "cell_type": "markdown",
   "id": "e65b0bb1",
   "metadata": {},
   "source": [
    "*   It is also important to verify if there are punctuations (for instance `,`,`.`,`?`,`!`,`-`) present in both source and target langauge. \n",
    "\n"
   ]
  },
  {
   "cell_type": "code",
   "execution_count": 60,
   "id": "1b1f8805",
   "metadata": {},
   "outputs": [],
   "source": [
    "# detect punctuations present in strings\n",
    "punctuations = [\",\", \".\", \"?\", \"!\", \"-\"]\n",
    "punctuation_mismatch_index = []\n",
    "\n",
    "for index, row in sentence_pair_df.iterrows():\n",
    "    english_sentence_last_character = row['English'].strip()[-1]\n",
    "    german_sentence_last_character = row['German'].strip()[-1]\n",
    "    if (english_sentence_last_character in punctuations) or \\\n",
    "        (german_sentence_last_character in punctuations):\n",
    "        if english_sentence_last_character != german_sentence_last_character:\n",
    "            punctuation_mismatch_index.append(index)\n"
   ]
  },
  {
   "cell_type": "code",
   "execution_count": 43,
   "id": "f9ab8fff",
   "metadata": {},
   "outputs": [
    {
     "data": {
      "text/html": [
       "<div>\n",
       "<style scoped>\n",
       "    .dataframe tbody tr th:only-of-type {\n",
       "        vertical-align: middle;\n",
       "    }\n",
       "\n",
       "    .dataframe tbody tr th {\n",
       "        vertical-align: top;\n",
       "    }\n",
       "\n",
       "    .dataframe thead th {\n",
       "        text-align: right;\n",
       "    }\n",
       "</style>\n",
       "<table border=\"1\" class=\"dataframe\">\n",
       "  <thead>\n",
       "    <tr style=\"text-align: right;\">\n",
       "      <th></th>\n",
       "      <th>English</th>\n",
       "      <th>German</th>\n",
       "    </tr>\n",
       "  </thead>\n",
       "  <tbody>\n",
       "    <tr>\n",
       "      <th>2</th>\n",
       "      <td>The database also records new manufacturers in...</td>\n",
       "      <td>Die Datenbank nimmt bei jeder neuen Herausgabe...</td>\n",
       "    </tr>\n",
       "    <tr>\n",
       "      <th>6</th>\n",
       "      <td>Mr. Esmond, I resign.</td>\n",
       "      <td>Mr. Esmond, ich trete zurück</td>\n",
       "    </tr>\n",
       "    <tr>\n",
       "      <th>10</th>\n",
       "      <td>As I have mentioned, SOB offers Greek texts no...</td>\n",
       "      <td>SOB bietet die griechischen Texte nicht nur mi...</td>\n",
       "    </tr>\n",
       "    <tr>\n",
       "      <th>33</th>\n",
       "      <td>The flannels are in men's sizes so they are me...</td>\n",
       "      <td>Die Flanelle sind in Herrengrößen, so sollen s...</td>\n",
       "    </tr>\n",
       "    <tr>\n",
       "      <th>39</th>\n",
       "      <td>14 of 26 Restaurants in Castries 2 reviews</td>\n",
       "      <td>Nr. 14 von 26 Restaurants in Castries 2 Bewert...</td>\n",
       "    </tr>\n",
       "    <tr>\n",
       "      <th>49</th>\n",
       "      <td>This, of course, requires a certain degree of ...</td>\n",
       "      <td>Dies erfordert natürlich eine gewisse Allgemei...</td>\n",
       "    </tr>\n",
       "    <tr>\n",
       "      <th>60</th>\n",
       "      <td>According to previous reports, Commission Vice...</td>\n",
       "      <td>Verschiedenen Berichten zufolge würde der derz...</td>\n",
       "    </tr>\n",
       "  </tbody>\n",
       "</table>\n",
       "</div>"
      ],
      "text/plain": [
       "                                              English  \\\n",
       "2   The database also records new manufacturers in...   \n",
       "6                               Mr. Esmond, I resign.   \n",
       "10  As I have mentioned, SOB offers Greek texts no...   \n",
       "33  The flannels are in men's sizes so they are me...   \n",
       "39         14 of 26 Restaurants in Castries 2 reviews   \n",
       "49  This, of course, requires a certain degree of ...   \n",
       "60  According to previous reports, Commission Vice...   \n",
       "\n",
       "                                               German  \n",
       "2   Die Datenbank nimmt bei jeder neuen Herausgabe...  \n",
       "6                        Mr. Esmond, ich trete zurück  \n",
       "10  SOB bietet die griechischen Texte nicht nur mi...  \n",
       "33  Die Flanelle sind in Herrengrößen, so sollen s...  \n",
       "39  Nr. 14 von 26 Restaurants in Castries 2 Bewert...  \n",
       "49  Dies erfordert natürlich eine gewisse Allgemei...  \n",
       "60  Verschiedenen Berichten zufolge würde der derz...  "
      ]
     },
     "execution_count": 43,
     "metadata": {},
     "output_type": "execute_result"
    }
   ],
   "source": [
    "# print sentences having punctuations \n",
    "sentence_pair_df.iloc[punctuation_mismatch_index]"
   ]
  },
  {
   "cell_type": "markdown",
   "id": "ac435f79",
   "metadata": {},
   "source": [
    "\n",
    "\n",
    "*   There are several sentences containing punctuation. \n",
    "*   However, similar to numbers and `\"`, punctuations are also irregular between source and target language. \n",
    "*   Therefore, we can remove punctuations from sentences in source and target language.\n",
    "\n",
    "\n",
    "\n"
   ]
  },
  {
   "cell_type": "code",
   "execution_count": 45,
   "id": "4d171337",
   "metadata": {},
   "outputs": [],
   "source": [
    "# remove punctuations from target and source \n",
    "for index in punctuation_mismatch_index:\n",
    "    source_last_character = sentence_pair_df['English'].iloc[index][-1]\n",
    "    target_last_character = sentence_pair_df['German'].iloc[index][-1]\n",
    "    if source_last_character in punctuations:\n",
    "        if target_last_character in punctuations:\n",
    "            sentence_pair_df['German'].iloc[index] = sentence_pair_df['German'].iloc[index][:-1] + source_last_character\n",
    "        else:\n",
    "            sentence_pair_df['German'].iloc[index] = sentence_pair_df['German'].iloc[index] + source_last_character\n",
    "    else:\n",
    "        sentence_pair_df['German'].iloc[index] = sentence_pair_df['German'].iloc[index][:-1]"
   ]
  },
  {
   "cell_type": "code",
   "execution_count": 46,
   "id": "bdd4a5d1",
   "metadata": {},
   "outputs": [
    {
     "data": {
      "text/html": [
       "<div>\n",
       "<style scoped>\n",
       "    .dataframe tbody tr th:only-of-type {\n",
       "        vertical-align: middle;\n",
       "    }\n",
       "\n",
       "    .dataframe tbody tr th {\n",
       "        vertical-align: top;\n",
       "    }\n",
       "\n",
       "    .dataframe thead th {\n",
       "        text-align: right;\n",
       "    }\n",
       "</style>\n",
       "<table border=\"1\" class=\"dataframe\">\n",
       "  <thead>\n",
       "    <tr style=\"text-align: right;\">\n",
       "      <th></th>\n",
       "      <th>English</th>\n",
       "      <th>German</th>\n",
       "    </tr>\n",
       "  </thead>\n",
       "  <tbody>\n",
       "    <tr>\n",
       "      <th>2</th>\n",
       "      <td>The database also records new manufacturers in...</td>\n",
       "      <td>Die Datenbank nimmt bei jeder neuen Herausgabe...</td>\n",
       "    </tr>\n",
       "    <tr>\n",
       "      <th>6</th>\n",
       "      <td>Mr. Esmond, I resign.</td>\n",
       "      <td>Mr. Esmond, ich trete zurück.</td>\n",
       "    </tr>\n",
       "    <tr>\n",
       "      <th>10</th>\n",
       "      <td>As I have mentioned, SOB offers Greek texts no...</td>\n",
       "      <td>SOB bietet die griechischen Texte nicht nur mi...</td>\n",
       "    </tr>\n",
       "    <tr>\n",
       "      <th>33</th>\n",
       "      <td>The flannels are in men's sizes so they are me...</td>\n",
       "      <td>Die Flanelle sind in Herrengrößen, so sollen s...</td>\n",
       "    </tr>\n",
       "    <tr>\n",
       "      <th>39</th>\n",
       "      <td>14 of 26 Restaurants in Castries 2 reviews</td>\n",
       "      <td>Nr. 14 von 26 Restaurants in Castries 2 Bewert...</td>\n",
       "    </tr>\n",
       "    <tr>\n",
       "      <th>49</th>\n",
       "      <td>This, of course, requires a certain degree of ...</td>\n",
       "      <td>Dies erfordert natürlich eine gewisse Allgemei...</td>\n",
       "    </tr>\n",
       "    <tr>\n",
       "      <th>60</th>\n",
       "      <td>According to previous reports, Commission Vice...</td>\n",
       "      <td>Verschiedenen Berichten zufolge würde der derz...</td>\n",
       "    </tr>\n",
       "  </tbody>\n",
       "</table>\n",
       "</div>"
      ],
      "text/plain": [
       "                                              English  \\\n",
       "2   The database also records new manufacturers in...   \n",
       "6                               Mr. Esmond, I resign.   \n",
       "10  As I have mentioned, SOB offers Greek texts no...   \n",
       "33  The flannels are in men's sizes so they are me...   \n",
       "39         14 of 26 Restaurants in Castries 2 reviews   \n",
       "49  This, of course, requires a certain degree of ...   \n",
       "60  According to previous reports, Commission Vice...   \n",
       "\n",
       "                                               German  \n",
       "2   Die Datenbank nimmt bei jeder neuen Herausgabe...  \n",
       "6                       Mr. Esmond, ich trete zurück.  \n",
       "10  SOB bietet die griechischen Texte nicht nur mi...  \n",
       "33  Die Flanelle sind in Herrengrößen, so sollen s...  \n",
       "39  Nr. 14 von 26 Restaurants in Castries 2 Bewert...  \n",
       "49  Dies erfordert natürlich eine gewisse Allgemei...  \n",
       "60  Verschiedenen Berichten zufolge würde der derz...  "
      ]
     },
     "execution_count": 46,
     "metadata": {},
     "output_type": "execute_result"
    }
   ],
   "source": [
    "# print sentences without punctuations \n",
    "sentence_pair_df.iloc[punctuation_mismatch_index]"
   ]
  },
  {
   "cell_type": "markdown",
   "id": "592fea1d",
   "metadata": {},
   "source": [
    "Outlier in textual length detection and removal\n",
    "\n",
    "*   Let us now detect, while scrapping multiple sentences are not scrapped in same line either in source or target language. \n",
    "*   In oder to do so, let us create a box-plot. \n",
    "*   A box-plot is a visualisation tool, that helps to detect outliers present in data. \n",
    "\n"
   ]
  },
  {
   "cell_type": "code",
   "execution_count": 47,
   "id": "3a663360",
   "metadata": {},
   "outputs": [],
   "source": [
    "# extract sentence having multiple sentences\n",
    "def token_length(string):\n",
    "    tokens = string.split(\" \")\n",
    "    return len(tokens)"
   ]
  },
  {
   "cell_type": "code",
   "execution_count": 48,
   "id": "14d5bff7",
   "metadata": {},
   "outputs": [],
   "source": [
    "token_length_difference = sentence_pair_df.apply(lambda row: abs(token_length(row['English'])-\n",
    "                                       token_length(row['German'])), axis=1)"
   ]
  },
  {
   "cell_type": "code",
   "execution_count": 49,
   "id": "71566086",
   "metadata": {},
   "outputs": [
    {
     "data": {
      "image/png": "[encoded data removed]",
      "text/plain": [
       "<Figure size 432x288 with 1 Axes>"
      ]
     },
     "metadata": {
      "needs_background": "light"
     },
     "output_type": "display_data"
    }
   ],
   "source": [
    "# visualise outliers in textual length\n",
    "token_length_difference.plot.box()\n",
    "plt.show()"
   ]
  },
  {
   "cell_type": "code",
   "execution_count": 50,
   "id": "478a7a5d",
   "metadata": {},
   "outputs": [
    {
     "data": {
      "text/html": [
       "<div>\n",
       "<style scoped>\n",
       "    .dataframe tbody tr th:only-of-type {\n",
       "        vertical-align: middle;\n",
       "    }\n",
       "\n",
       "    .dataframe tbody tr th {\n",
       "        vertical-align: top;\n",
       "    }\n",
       "\n",
       "    .dataframe thead th {\n",
       "        text-align: right;\n",
       "    }\n",
       "</style>\n",
       "<table border=\"1\" class=\"dataframe\">\n",
       "  <thead>\n",
       "    <tr style=\"text-align: right;\">\n",
       "      <th></th>\n",
       "      <th>English</th>\n",
       "      <th>German</th>\n",
       "    </tr>\n",
       "  </thead>\n",
       "  <tbody>\n",
       "    <tr>\n",
       "      <th>60</th>\n",
       "      <td>According to previous reports, Commission Vice...</td>\n",
       "      <td>Verschiedenen Berichten zufolge würde der derz...</td>\n",
       "    </tr>\n",
       "    <tr>\n",
       "      <th>90</th>\n",
       "      <td>Device for moulding foamed plastic articles. T...</td>\n",
       "      <td>Vorrichtung zum Giessen von Gegenständen aus g...</td>\n",
       "    </tr>\n",
       "  </tbody>\n",
       "</table>\n",
       "</div>"
      ],
      "text/plain": [
       "                                              English  \\\n",
       "60  According to previous reports, Commission Vice...   \n",
       "90  Device for moulding foamed plastic articles. T...   \n",
       "\n",
       "                                               German  \n",
       "60  Verschiedenen Berichten zufolge würde der derz...  \n",
       "90  Vorrichtung zum Giessen von Gegenständen aus g...  "
      ]
     },
     "execution_count": 50,
     "metadata": {},
     "output_type": "execute_result"
    }
   ],
   "source": [
    "# print sentence having mismatch in textual lenght\n",
    "token_length_outlier_index = token_length_difference[token_length_difference > 10].index\n",
    "sentence_pair_df.iloc[token_length_outlier_index]"
   ]
  },
  {
   "cell_type": "markdown",
   "id": "0b36c37b",
   "metadata": {},
   "source": [
    "\n",
    "\n",
    "*   There is inconsitence in lenght of sentence in target and source langauge. \n",
    "*   Hence, it is important to remove additional sentence scrapped. \n",
    "\n"
   ]
  },
  {
   "cell_type": "code",
   "execution_count": 51,
   "id": "50b333a4",
   "metadata": {},
   "outputs": [],
   "source": [
    "# drop data having irregular sentence length \n",
    "# reset index\n",
    "sentence_pair_df.drop(index=token_length_outlier_index, inplace=True)\n",
    "sentence_pair_df.reset_index(inplace=True, drop=True)"
   ]
  },
  {
   "cell_type": "markdown",
   "id": "0dd0912d",
   "metadata": {},
   "source": [
    "*   Here, let us detect if their is presence inconsistent tags (for instance `<.*?>|>`) in target and source language.\n",
    "\n"
   ]
  },
  {
   "cell_type": "code",
   "execution_count": 52,
   "id": "3517302a",
   "metadata": {},
   "outputs": [
    {
     "name": "stdout",
     "output_type": "stream",
     "text": [
      "79 Prior says the latent potential in Thailand is <B>enormous</B>.\n",
      "82 Other <i>productions</i> from La Forêt Des Brumes\n",
      "84 Maximum size of a <tag:value> backup </tag> set for archivelogs\n",
      "85 Es wird auch einige Zeit zur freien Verfügung stehen, <tag:value> backup </tag> bevor es zurück nach Rennes geht.\n",
      "88 Their caps are brown <<tag:ends />> and streaked.\n"
     ]
    }
   ],
   "source": [
    "# extract sentences having tags and print them\n",
    "tags_in_sentence_index = []\n",
    "for index, row in sentence_pair_df.iterrows():\n",
    "    source_tags = re.findall(r'<.*?>|>', row['English'])\n",
    "    target_tags = re.findall(r'<.*?>|>', row['German'])\n",
    "    if source_tags:\n",
    "        tags_in_sentence_index.append(index)\n",
    "        print(index, row['English'])\n",
    "    if target_tags:\n",
    "        tags_in_sentence_index.append(index)\n",
    "        print(index, row['German'])\n",
    "\n",
    "tags_in_sentence_index = set(tags_in_sentence_index)"
   ]
  },
  {
   "cell_type": "markdown",
   "id": "cc6008cd",
   "metadata": {},
   "source": [
    "\n",
    "\n",
    "*   As we can see, there are is irregularity in tags present in target and source language. \n",
    "*   Therefore, it is also important to remove tags from target and source language. \n",
    "\n",
    "\n",
    "\n"
   ]
  },
  {
   "cell_type": "code",
   "execution_count": 53,
   "id": "f6886a7c",
   "metadata": {},
   "outputs": [],
   "source": [
    "# remove tags from sentences \n",
    "for index in tags_in_sentence_index:\n",
    "    sentence_pair_df['English'].iloc[index] = re.sub(r'<.*?>|>', \"\", \n",
    "                                                   sentence_pair_df['English'].iloc[index])\n",
    "    sentence_pair_df['German'].iloc[index] = re.sub(r'<.*?>|>', \"\", \n",
    "                                                   sentence_pair_df['German'].iloc[index])"
   ]
  },
  {
   "cell_type": "code",
   "execution_count": 54,
   "id": "422cb558",
   "metadata": {},
   "outputs": [
    {
     "data": {
      "text/html": [
       "<div>\n",
       "<style scoped>\n",
       "    .dataframe tbody tr th:only-of-type {\n",
       "        vertical-align: middle;\n",
       "    }\n",
       "\n",
       "    .dataframe tbody tr th {\n",
       "        vertical-align: top;\n",
       "    }\n",
       "\n",
       "    .dataframe thead th {\n",
       "        text-align: right;\n",
       "    }\n",
       "</style>\n",
       "<table border=\"1\" class=\"dataframe\">\n",
       "  <thead>\n",
       "    <tr style=\"text-align: right;\">\n",
       "      <th></th>\n",
       "      <th>English</th>\n",
       "      <th>German</th>\n",
       "    </tr>\n",
       "  </thead>\n",
       "  <tbody>\n",
       "    <tr>\n",
       "      <th>79</th>\n",
       "      <td>Prior says the latent potential in Thailand is...</td>\n",
       "      <td>Prior ist dennoch davon überzeugt, dass das vo...</td>\n",
       "    </tr>\n",
       "    <tr>\n",
       "      <th>82</th>\n",
       "      <td>Other productions from La Forêt Des Brumes</td>\n",
       "      <td>Anderen Alben von La Forêt Des Brumes</td>\n",
       "    </tr>\n",
       "    <tr>\n",
       "      <th>84</th>\n",
       "      <td>Maximum size of a  backup  set for archivelogs</td>\n",
       "      <td>Max. Größe einer Sicherungsgruppe für Archivelogs</td>\n",
       "    </tr>\n",
       "    <tr>\n",
       "      <th>85</th>\n",
       "      <td>You will then have some free time before the d...</td>\n",
       "      <td>Es wird auch einige Zeit zur freien Verfügung ...</td>\n",
       "    </tr>\n",
       "    <tr>\n",
       "      <th>88</th>\n",
       "      <td>Their caps are brown  and streaked.</td>\n",
       "      <td>Der Oberkopf ist braun und gestreift.</td>\n",
       "    </tr>\n",
       "  </tbody>\n",
       "</table>\n",
       "</div>"
      ],
      "text/plain": [
       "                                              English  \\\n",
       "79  Prior says the latent potential in Thailand is...   \n",
       "82         Other productions from La Forêt Des Brumes   \n",
       "84     Maximum size of a  backup  set for archivelogs   \n",
       "85  You will then have some free time before the d...   \n",
       "88                Their caps are brown  and streaked.   \n",
       "\n",
       "                                               German  \n",
       "79  Prior ist dennoch davon überzeugt, dass das vo...  \n",
       "82              Anderen Alben von La Forêt Des Brumes  \n",
       "84  Max. Größe einer Sicherungsgruppe für Archivelogs  \n",
       "85  Es wird auch einige Zeit zur freien Verfügung ...  \n",
       "88              Der Oberkopf ist braun und gestreift.  "
      ]
     },
     "execution_count": 54,
     "metadata": {},
     "output_type": "execute_result"
    }
   ],
   "source": [
    "sentence_pair_df.iloc[list(tags_in_sentence_index)]"
   ]
  },
  {
   "cell_type": "markdown",
   "id": "01bf15cd",
   "metadata": {},
   "source": [
    "\n",
    "\n",
    "*   Verfiying, if there is any data loss while pre-processing and cleaning data.\n"
   ]
  },
  {
   "cell_type": "code",
   "execution_count": 55,
   "id": "b5057d27",
   "metadata": {},
   "outputs": [
    {
     "data": {
      "text/plain": [
       "(89, 2)"
      ]
     },
     "execution_count": 55,
     "metadata": {},
     "output_type": "execute_result"
    }
   ],
   "source": [
    "# verfiy data loss while pre-processing\n",
    "sentence_pair_df.shape"
   ]
  },
  {
   "cell_type": "markdown",
   "id": "ec902a8b",
   "metadata": {},
   "source": [
    "\n",
    "\n",
    "## Part-3 Store the cleaned. \n",
    "\n",
    "\n",
    "*   Cleaned data can be used by students to study translation easily and effectively.  \n",
    "\n",
    "\n",
    "\n"
   ]
  },
  {
   "cell_type": "code",
   "execution_count": 65,
   "id": "341802ff",
   "metadata": {},
   "outputs": [],
   "source": [
    "# store cleaned data\n",
    "sentence_pair_df.to_excel(\"datascientist-task-data-files/cleaned-translation-data.xlsx\", index=False)"
   ]
  }
 ],
 "metadata": {
  "kernelspec": {
   "display_name": "Python 3 (ipykernel)",
   "language": "python",
   "name": "python3"
  },
  "language_info": {
   "codemirror_mode": {
    "name": "ipython",
    "version": 3
   },
   "file_extension": ".py",
   "mimetype": "text/x-python",
   "name": "python",
   "nbconvert_exporter": "python",
   "pygments_lexer": "ipython3",
   "version": "3.9.7"
  }
 },
 "nbformat": 4,
 "nbformat_minor": 5
}
